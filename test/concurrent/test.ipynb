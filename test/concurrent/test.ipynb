{
 "cells": [
  {
   "cell_type": "code",
   "execution_count": 1,
   "metadata": {},
   "outputs": [],
   "source": [
    "import os\n",
    "import sys\n",
    "import threading\n",
    "from concurrent.futures import ThreadPoolExecutor\n",
    "\n",
    "src_dir = os.path.dirname(os.path.dirname(os.path.abspath(''))) + '/src'\n",
    "sys.path.append(src_dir)\n",
    "\n",
    "from database_concurrent import Database\n",
    "\n",
    "from non_concurrent import test_non_concurrent\n",
    "from conflict_serializability import test_conflict_serializability\n",
    "from timestamp_based_concurrency_control import test_timestamp_based_concurrency_control\n"
   ]
  },
  {
   "cell_type": "code",
   "execution_count": 2,
   "metadata": {},
   "outputs": [],
   "source": [
    "db = Database()"
   ]
  },
  {
   "cell_type": "code",
   "execution_count": 3,
   "metadata": {},
   "outputs": [
    {
     "name": "stderr",
     "output_type": "stream",
     "text": [
      "2024-11-25 22:23:42,530 - Thread-0 - DEBUG - Transaction 0 starting at 1732544622.5301442\n"
     ]
    },
    {
     "name": "stdout",
     "output_type": "stream",
     "text": [
      "Testing Non-Concurrent...\n"
     ]
    },
    {
     "name": "stderr",
     "output_type": "stream",
     "text": [
      "2024-11-25 22:23:42,632 - Thread-1 - DEBUG - Transaction 1 starting at 1732544622.6321635\n",
      "2024-11-25 22:23:42,734 - Thread-2 - DEBUG - Transaction 2 starting at 1732544622.7343023\n",
      "2024-11-25 22:23:42,737 - Thread-2 - DEBUG - Transaction 2 read Orders: [('order1', 'customer0', '2023-01-01', 200, '未支付', '未发货')]\n",
      "2024-11-25 22:23:42,737 - Thread-2 - DEBUG - Transaction 2 read OrderDetail: []\n",
      "2024-11-25 22:23:42,738 - Thread-2 - DEBUG - Transaction 2 completed successfully at 1732544622.7382283\n",
      "2024-11-25 22:23:42,836 - Thread-3 - DEBUG - Transaction 3 starting at 1732544622.8361824\n",
      "2024-11-25 22:23:42,937 - Thread-4 - DEBUG - Transaction 4 starting at 1732544622.9376926\n",
      "2024-11-25 22:23:43,034 - Thread-0 - DEBUG - Transaction 0 writing to Orders with key order1 and value {'order_id': 'order1', 'customer_id': 'customer0', 'order_date': '2023-01-01', 'total_amount': 200.0, 'payment_status': '未支付', 'logistics_status': '未发货'}\n",
      "2024-11-25 22:23:43,039 - Thread-5 - DEBUG - Transaction 5 starting at 1732544623.039271\n",
      "2024-11-25 22:23:43,048 - Thread-0 - DEBUG - Transaction 0 writing to OrderDetail with key detail1 and value {'order_detail_id': 'detail1', 'order_id': 'order1', 'isbn': '1234567890123', 'unit_price': 100.0, 'quantity': 2}\n",
      "2024-11-25 22:23:43,049 - Thread-5 - DEBUG - Transaction 5 read Orders: [('order1', 'customer0', '2023-01-01', 200, '未支付', '未发货')]\n",
      "2024-11-25 22:23:43,050 - Thread-5 - DEBUG - Transaction 5 read OrderDetail: []\n",
      "2024-11-25 22:23:43,050 - Thread-5 - DEBUG - Transaction 5 completed successfully at 1732544623.0507402\n",
      "2024-11-25 22:23:43,062 - Thread-0 - DEBUG - Transaction 0 completed successfully at 1732544623.0620885\n",
      "2024-11-25 22:23:43,135 - Thread-1 - DEBUG - Transaction 1 writing to Orders with key order1 and value {'order_id': 'order1', 'customer_id': 'customer0', 'order_date': '2023-01-02', 'total_amount': 300.0, 'payment_status': '已支付', 'logistics_status': '已发货未完成'}\n",
      "2024-11-25 22:23:43,141 - Thread-6 - DEBUG - Transaction 6 starting at 1732544623.1412215\n",
      "2024-11-25 22:23:43,149 - Thread-1 - DEBUG - Transaction 1 writing to OrderDetail with key detail1 and value {'order_detail_id': 'detail1', 'order_id': 'order1', 'isbn': '1234567890123', 'unit_price': 100.0, 'quantity': 3}\n",
      "2024-11-25 22:23:43,163 - Thread-1 - DEBUG - Transaction 1 completed successfully at 1732544623.1636477\n",
      "2024-11-25 22:23:43,243 - Thread-7 - DEBUG - Transaction 7 starting at 1732544623.2432194\n",
      "2024-11-25 22:23:43,339 - Thread-3 - DEBUG - Transaction 3 writing to Orders with key order1 and value {'order_id': 'order1', 'customer_id': 'customer0', 'order_date': '2023-01-01', 'total_amount': 200.0, 'payment_status': '未支付', 'logistics_status': '未发货'}\n",
      "2024-11-25 22:23:43,345 - Thread-8 - DEBUG - Transaction 8 starting at 1732544623.3451476\n",
      "2024-11-25 22:23:43,353 - Thread-3 - DEBUG - Transaction 3 writing to OrderDetail with key detail1 and value {'order_detail_id': 'detail1', 'order_id': 'order1', 'isbn': '1234567890123', 'unit_price': 100.0, 'quantity': 2}\n",
      "2024-11-25 22:23:43,355 - Thread-8 - DEBUG - Transaction 8 read Orders: [('order1', 'customer0', '2023-01-01', 200, '未支付', '未发货')]\n",
      "2024-11-25 22:23:43,355 - Thread-8 - DEBUG - Transaction 8 read OrderDetail: []\n",
      "2024-11-25 22:23:43,356 - Thread-8 - DEBUG - Transaction 8 completed successfully at 1732544623.3561318\n",
      "2024-11-25 22:23:43,369 - Thread-3 - DEBUG - Transaction 3 completed successfully at 1732544623.3694139\n",
      "2024-11-25 22:23:43,440 - Thread-4 - DEBUG - Transaction 4 writing to Orders with key order1 and value {'order_id': 'order1', 'customer_id': 'customer0', 'order_date': '2023-01-02', 'total_amount': 300.0, 'payment_status': '已支付', 'logistics_status': '已发货未完成'}\n",
      "2024-11-25 22:23:43,447 - Thread-9 - DEBUG - Transaction 9 starting at 1732544623.4470727\n",
      "2024-11-25 22:23:43,454 - Thread-4 - DEBUG - Transaction 4 writing to OrderDetail with key detail1 and value {'order_detail_id': 'detail1', 'order_id': 'order1', 'isbn': '1234567890123', 'unit_price': 100.0, 'quantity': 3}\n",
      "2024-11-25 22:23:43,468 - Thread-4 - DEBUG - Transaction 4 completed successfully at 1732544623.4688215\n",
      "2024-11-25 22:23:43,651 - Thread-6 - DEBUG - Transaction 6 writing to Orders with key order1 and value {'order_id': 'order1', 'customer_id': 'customer0', 'order_date': '2023-01-01', 'total_amount': 200.0, 'payment_status': '未支付', 'logistics_status': '未发货'}\n",
      "2024-11-25 22:23:43,666 - Thread-6 - DEBUG - Transaction 6 writing to OrderDetail with key detail1 and value {'order_detail_id': 'detail1', 'order_id': 'order1', 'isbn': '1234567890123', 'unit_price': 100.0, 'quantity': 2}\n",
      "2024-11-25 22:23:43,681 - Thread-6 - DEBUG - Transaction 6 completed successfully at 1732544623.681387\n",
      "2024-11-25 22:23:43,747 - Thread-7 - DEBUG - Transaction 7 writing to Orders with key order1 and value {'order_id': 'order1', 'customer_id': 'customer0', 'order_date': '2023-01-02', 'total_amount': 300.0, 'payment_status': '已支付', 'logistics_status': '已发货未完成'}\n",
      "2024-11-25 22:23:43,761 - Thread-7 - DEBUG - Transaction 7 writing to OrderDetail with key detail1 and value {'order_detail_id': 'detail1', 'order_id': 'order1', 'isbn': '1234567890123', 'unit_price': 100.0, 'quantity': 3}\n",
      "2024-11-25 22:23:43,775 - Thread-7 - DEBUG - Transaction 7 completed successfully at 1732544623.7751396\n",
      "2024-11-25 22:23:43,957 - Thread-9 - DEBUG - Transaction 9 writing to Orders with key order1 and value {'order_id': 'order1', 'customer_id': 'customer0', 'order_date': '2023-01-01', 'total_amount': 200.0, 'payment_status': '未支付', 'logistics_status': '未发货'}\n",
      "2024-11-25 22:23:43,972 - Thread-9 - DEBUG - Transaction 9 writing to OrderDetail with key detail1 and value {'order_detail_id': 'detail1', 'order_id': 'order1', 'isbn': '1234567890123', 'unit_price': 100.0, 'quantity': 2}\n",
      "2024-11-25 22:23:43,987 - Thread-9 - DEBUG - Transaction 9 completed successfully at 1732544623.987104\n",
      "2024-11-25 22:23:43,989 - MainThread - DEBUG - Final state of Orders table: [('order1', 'customer0', '2023-01-01', 200, '未支付', '未发货')]\n",
      "2024-11-25 22:23:43,990 - MainThread - DEBUG - Final state of OrderDetail table: [('detail1', 'order1', '1234567890123', 100, 2)]\n"
     ]
    }
   ],
   "source": [
    "print(\"Testing Non-Concurrent...\")\n",
    "test_non_concurrent(db)"
   ]
  },
  {
   "cell_type": "code",
   "execution_count": 4,
   "metadata": {},
   "outputs": [
    {
     "name": "stdout",
     "output_type": "stream",
     "text": [
      "Testing Conflict Serializability...\n",
      "Conflict Serializability: Not Serializable\n"
     ]
    }
   ],
   "source": [
    "print(\"Testing Conflict Serializability...\")\n",
    "test_conflict_serializability(db)"
   ]
  },
  {
   "cell_type": "code",
   "execution_count": 5,
   "metadata": {},
   "outputs": [
    {
     "name": "stderr",
     "output_type": "stream",
     "text": [
      "2024-11-25 22:23:44,112 - Thread-0 - DEBUG - Transaction 0 starting at 1732544624.1123722\n",
      "2024-11-25 22:23:44,114 - Thread-0 - DEBUG - Transaction 0 trying to acquire lock on Orders at 1732544624.114492\n",
      "2024-11-25 22:23:44,115 - Thread-0 - DEBUG - Transaction 0 acquired lock on Orders at 1732544624.1149805\n",
      "2024-11-25 22:23:44,116 - Thread-0 - DEBUG - Transaction 0 trying to acquire lock on OrderDetail at 1732544624.1161313\n",
      "2024-11-25 22:23:44,116 - Thread-0 - DEBUG - Transaction 0 acquired lock on OrderDetail at 1732544624.1164806\n"
     ]
    },
    {
     "name": "stdout",
     "output_type": "stream",
     "text": [
      "Testing Timestamp-Based Concurrency Control...\n"
     ]
    },
    {
     "name": "stderr",
     "output_type": "stream",
     "text": [
      "2024-11-25 22:23:44,214 - Thread-1 - DEBUG - Transaction 1 starting at 1732544624.214262\n",
      "2024-11-25 22:23:44,216 - Thread-1 - DEBUG - Transaction 1 trying to acquire lock on Orders at 1732544624.2160163\n",
      "2024-11-25 22:23:44,216 - Thread-1 - DEBUG - Transaction 1 acquired lock on Orders at 1732544624.216491\n",
      "2024-11-25 22:23:44,217 - Thread-1 - DEBUG - Transaction 1 trying to acquire lock on OrderDetail at 1732544624.217599\n",
      "2024-11-25 22:23:44,218 - Thread-1 - DEBUG - Transaction 1 acquired lock on OrderDetail at 1732544624.2180111\n",
      "2024-11-25 22:23:44,316 - Thread-2 - DEBUG - Transaction 2 starting at 1732544624.3162012\n",
      "2024-11-25 22:23:44,317 - Thread-2 - DEBUG - Transaction 2 trying to acquire lock on Orders at 1732544624.317732\n",
      "2024-11-25 22:23:44,318 - Thread-2 - DEBUG - Transaction 2 acquired lock on Orders at 1732544624.3179934\n",
      "2024-11-25 22:23:44,318 - Thread-2 - DEBUG - Transaction 2 trying to acquire lock on OrderDetail at 1732544624.3188095\n",
      "2024-11-25 22:23:44,319 - Thread-2 - DEBUG - Transaction 2 acquired lock on OrderDetail at 1732544624.319108\n",
      "2024-11-25 22:23:44,319 - Thread-2 - DEBUG - Transaction 2 read Orders: [('order1', 'customer0', '2023-01-01', 200, '未支付', '未发货')]\n",
      "2024-11-25 22:23:44,320 - Thread-2 - DEBUG - Transaction 2 read OrderDetail: []\n",
      "2024-11-25 22:23:44,320 - Thread-2 - DEBUG - Transaction 2 completed successfully at 1732544624.3202915\n",
      "2024-11-25 22:23:44,418 - Thread-3 - DEBUG - Transaction 3 starting at 1732544624.4181325\n",
      "2024-11-25 22:23:44,419 - Thread-3 - DEBUG - Transaction 3 trying to acquire lock on Orders at 1732544624.4198437\n",
      "2024-11-25 22:23:44,420 - Thread-3 - DEBUG - Transaction 3 acquired lock on Orders at 1732544624.4202433\n",
      "2024-11-25 22:23:44,421 - Thread-3 - DEBUG - Transaction 3 trying to acquire lock on OrderDetail at 1732544624.42114\n",
      "2024-11-25 22:23:44,421 - Thread-3 - DEBUG - Transaction 3 acquired lock on OrderDetail at 1732544624.42143\n",
      "2024-11-25 22:23:44,519 - Thread-4 - DEBUG - Transaction 4 starting at 1732544624.5197875\n",
      "2024-11-25 22:23:44,521 - Thread-4 - DEBUG - Transaction 4 trying to acquire lock on Orders at 1732544624.521489\n",
      "2024-11-25 22:23:44,521 - Thread-4 - DEBUG - Transaction 4 acquired lock on Orders at 1732544624.5218139\n",
      "2024-11-25 22:23:44,522 - Thread-4 - DEBUG - Transaction 4 trying to acquire lock on OrderDetail at 1732544624.5227904\n",
      "2024-11-25 22:23:44,523 - Thread-4 - DEBUG - Transaction 4 acquired lock on OrderDetail at 1732544624.5232432\n",
      "2024-11-25 22:23:44,617 - Thread-0 - DEBUG - Transaction 0 trying to acquire lock on Orders at 1732544624.6178386\n",
      "2024-11-25 22:23:44,618 - Thread-0 - DEBUG - Transaction 0 acquired lock on Orders at 1732544624.6186736\n",
      "2024-11-25 22:23:44,621 - Thread-5 - DEBUG - Transaction 5 starting at 1732544624.6217291\n",
      "2024-11-25 22:23:44,623 - Thread-5 - DEBUG - Transaction 5 trying to acquire lock on Orders at 1732544624.6233284\n",
      "2024-11-25 22:23:44,633 - Thread-0 - DEBUG - Transaction 0 trying to acquire lock on OrderDetail at 1732544624.6329935\n",
      "2024-11-25 22:23:44,633 - Thread-5 - DEBUG - Transaction 5 acquired lock on Orders at 1732544624.633197\n",
      "2024-11-25 22:23:44,633 - Thread-0 - DEBUG - Transaction 0 acquired lock on OrderDetail at 1732544624.6336613\n",
      "2024-11-25 22:23:44,635 - Thread-5 - DEBUG - Transaction 5 trying to acquire lock on OrderDetail at 1732544624.6359575\n",
      "2024-11-25 22:23:44,650 - Thread-0 - DEBUG - Transaction 0 completed successfully at 1732544624.6502657\n",
      "2024-11-25 22:23:44,650 - Thread-5 - DEBUG - Transaction 5 acquired lock on OrderDetail at 1732544624.6504745\n",
      "2024-11-25 22:23:44,652 - Thread-5 - DEBUG - Transaction 5 read Orders: [('order1', 'customer0', '2023-01-01', 200, '未支付', '未发货')]\n",
      "2024-11-25 22:23:44,653 - Thread-5 - DEBUG - Transaction 5 read OrderDetail: []\n",
      "2024-11-25 22:23:44,653 - Thread-5 - DEBUG - Transaction 5 completed successfully at 1732544624.6533995\n",
      "2024-11-25 22:23:44,719 - Thread-1 - DEBUG - Transaction 1 trying to acquire lock on Orders at 1732544624.7195396\n",
      "2024-11-25 22:23:44,720 - Thread-1 - DEBUG - Transaction 1 acquired lock on Orders at 1732544624.7201724\n",
      "2024-11-25 22:23:44,723 - Thread-6 - DEBUG - Transaction 6 starting at 1732544624.7232714\n",
      "2024-11-25 22:23:44,725 - Thread-6 - DEBUG - Transaction 6 trying to acquire lock on Orders at 1732544624.725181\n",
      "2024-11-25 22:23:44,735 - Thread-1 - DEBUG - Transaction 1 trying to acquire lock on OrderDetail at 1732544624.7349775\n",
      "2024-11-25 22:23:44,735 - Thread-6 - DEBUG - Transaction 6 acquired lock on Orders at 1732544624.7351685\n",
      "2024-11-25 22:23:44,735 - Thread-1 - DEBUG - Transaction 1 acquired lock on OrderDetail at 1732544624.735619\n",
      "2024-11-25 22:23:44,737 - Thread-6 - DEBUG - Transaction 6 trying to acquire lock on OrderDetail at 1732544624.7376328\n",
      "2024-11-25 22:23:44,753 - Thread-1 - DEBUG - Transaction 1 completed successfully at 1732544624.7535975\n",
      "2024-11-25 22:23:44,753 - Thread-6 - DEBUG - Transaction 6 acquired lock on OrderDetail at 1732544624.7537696\n",
      "2024-11-25 22:23:44,824 - Thread-7 - DEBUG - Transaction 7 starting at 1732544624.8248963\n",
      "2024-11-25 22:23:44,827 - Thread-7 - DEBUG - Transaction 7 trying to acquire lock on Orders at 1732544624.8270113\n",
      "2024-11-25 22:23:44,827 - Thread-7 - DEBUG - Transaction 7 acquired lock on Orders at 1732544624.8275452\n",
      "2024-11-25 22:23:44,829 - Thread-7 - DEBUG - Transaction 7 trying to acquire lock on OrderDetail at 1732544624.8289735\n",
      "2024-11-25 22:23:44,829 - Thread-7 - DEBUG - Transaction 7 acquired lock on OrderDetail at 1732544624.8295062\n",
      "2024-11-25 22:23:44,922 - Thread-3 - DEBUG - Transaction 3 trying to acquire lock on Orders at 1732544624.9227343\n",
      "2024-11-25 22:23:44,923 - Thread-3 - DEBUG - Transaction 3 acquired lock on Orders at 1732544624.9233344\n",
      "2024-11-25 22:23:44,927 - Thread-8 - DEBUG - Transaction 8 starting at 1732544624.9269674\n",
      "2024-11-25 22:23:44,928 - Thread-8 - DEBUG - Transaction 8 trying to acquire lock on Orders at 1732544624.9285536\n",
      "2024-11-25 22:23:44,937 - Thread-3 - DEBUG - Transaction 3 trying to acquire lock on OrderDetail at 1732544624.9371245\n",
      "2024-11-25 22:23:44,937 - Thread-8 - DEBUG - Transaction 8 acquired lock on Orders at 1732544624.9372823\n",
      "2024-11-25 22:23:44,937 - Thread-3 - DEBUG - Transaction 3 acquired lock on OrderDetail at 1732544624.9377484\n",
      "2024-11-25 22:23:44,939 - Thread-8 - DEBUG - Transaction 8 trying to acquire lock on OrderDetail at 1732544624.9398816\n",
      "2024-11-25 22:23:44,953 - Thread-3 - DEBUG - Transaction 3 completed successfully at 1732544624.953759\n",
      "2024-11-25 22:23:44,954 - Thread-8 - DEBUG - Transaction 8 acquired lock on OrderDetail at 1732544624.954035\n",
      "2024-11-25 22:23:44,957 - Thread-8 - DEBUG - Transaction 8 read Orders: [('order1', 'customer0', '2023-01-01', 200, '未支付', '未发货')]\n",
      "2024-11-25 22:23:44,957 - Thread-8 - DEBUG - Transaction 8 read OrderDetail: []\n",
      "2024-11-25 22:23:44,958 - Thread-8 - DEBUG - Transaction 8 completed successfully at 1732544624.9581182\n",
      "2024-11-25 22:23:45,024 - Thread-4 - DEBUG - Transaction 4 trying to acquire lock on Orders at 1732544625.0245783\n",
      "2024-11-25 22:23:45,025 - Thread-4 - DEBUG - Transaction 4 acquired lock on Orders at 1732544625.025478\n",
      "2024-11-25 22:23:45,028 - Thread-9 - DEBUG - Transaction 9 starting at 1732544625.0288432\n",
      "2024-11-25 22:23:45,030 - Thread-9 - DEBUG - Transaction 9 trying to acquire lock on Orders at 1732544625.0307212\n",
      "2024-11-25 22:23:45,039 - Thread-4 - DEBUG - Transaction 4 trying to acquire lock on OrderDetail at 1732544625.0395622\n",
      "2024-11-25 22:23:45,039 - Thread-9 - DEBUG - Transaction 9 acquired lock on Orders at 1732544625.0397253\n",
      "2024-11-25 22:23:45,040 - Thread-4 - DEBUG - Transaction 4 acquired lock on OrderDetail at 1732544625.0402522\n",
      "2024-11-25 22:23:45,042 - Thread-9 - DEBUG - Transaction 9 trying to acquire lock on OrderDetail at 1732544625.042379\n",
      "2024-11-25 22:23:45,057 - Thread-4 - DEBUG - Transaction 4 completed successfully at 1732544625.057834\n",
      "2024-11-25 22:23:45,058 - Thread-9 - DEBUG - Transaction 9 acquired lock on OrderDetail at 1732544625.058142\n",
      "2024-11-25 22:23:45,256 - Thread-6 - DEBUG - Transaction 6 trying to acquire lock on Orders at 1732544625.2567008\n",
      "2024-11-25 22:23:45,257 - Thread-6 - DEBUG - Transaction 6 acquired lock on Orders at 1732544625.257316\n",
      "2024-11-25 22:23:45,264 - Thread-6 - DEBUG - Transaction 6 trying to acquire lock on OrderDetail at 1732544625.264123\n",
      "2024-11-25 22:23:45,264 - Thread-6 - DEBUG - Transaction 6 acquired lock on OrderDetail at 1732544625.2648807\n",
      "2024-11-25 22:23:45,271 - Thread-6 - DEBUG - Transaction 6 completed successfully at 1732544625.2711012\n",
      "2024-11-25 22:23:45,330 - Thread-7 - DEBUG - Transaction 7 trying to acquire lock on Orders at 1732544625.3308501\n",
      "2024-11-25 22:23:45,331 - Thread-7 - DEBUG - Transaction 7 acquired lock on Orders at 1732544625.3314397\n",
      "2024-11-25 22:23:45,337 - Thread-7 - DEBUG - Transaction 7 trying to acquire lock on OrderDetail at 1732544625.3375802\n",
      "2024-11-25 22:23:45,338 - Thread-7 - DEBUG - Transaction 7 acquired lock on OrderDetail at 1732544625.3381233\n",
      "2024-11-25 22:23:45,343 - Thread-7 - DEBUG - Transaction 7 completed successfully at 1732544625.3438635\n",
      "2024-11-25 22:23:45,561 - Thread-9 - DEBUG - Transaction 9 trying to acquire lock on Orders at 1732544625.561321\n",
      "2024-11-25 22:23:45,562 - Thread-9 - DEBUG - Transaction 9 acquired lock on Orders at 1732544625.5619974\n",
      "2024-11-25 22:23:45,568 - Thread-9 - DEBUG - Transaction 9 trying to acquire lock on OrderDetail at 1732544625.5680473\n",
      "2024-11-25 22:23:45,568 - Thread-9 - DEBUG - Transaction 9 acquired lock on OrderDetail at 1732544625.5686255\n",
      "2024-11-25 22:23:45,574 - Thread-9 - DEBUG - Transaction 9 completed successfully at 1732544625.574294\n",
      "2024-11-25 22:23:45,576 - MainThread - DEBUG - Final state of Orders table: [('order1', 'customer0', '2023-01-01', 200, '未支付', '未发货')]\n",
      "2024-11-25 22:23:45,577 - MainThread - DEBUG - Final state of OrderDetail table: [('detail1', 'order1', '1234567890123', 100, 2)]\n"
     ]
    }
   ],
   "source": [
    "print(\"Testing Timestamp-Based Concurrency Control...\")\n",
    "test_timestamp_based_concurrency_control(db)"
   ]
  }
 ],
 "metadata": {
  "kernelspec": {
   "display_name": "book_sales",
   "language": "python",
   "name": "python3"
  },
  "language_info": {
   "codemirror_mode": {
    "name": "ipython",
    "version": 3
   },
   "file_extension": ".py",
   "mimetype": "text/x-python",
   "name": "python",
   "nbconvert_exporter": "python",
   "pygments_lexer": "ipython3",
   "version": "3.13.0"
  }
 },
 "nbformat": 4,
 "nbformat_minor": 2
}
