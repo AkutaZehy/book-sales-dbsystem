{
 "cells": [
  {
   "cell_type": "code",
   "execution_count": null,
   "metadata": {},
   "outputs": [],
   "source": [
    "# 导入必要的模块\n",
    "import sys\n",
    "import os\n",
    "import time\n",
    "\n",
    "src_dir = os.path.dirname(os.path.dirname(os.path.abspath(''))) + '/src'\n",
    "sys.path.append(src_dir)\n",
    "\n",
    "print(src_dir)\n",
    "\n",
    "from datetime import date\n",
    "from hashindex import HashIndex\n",
    "from views import Views\n",
    "from database import Database"
   ]
  },
  {
   "cell_type": "code",
   "execution_count": null,
   "metadata": {},
   "outputs": [],
   "source": [
    "# 初始化视图和数据库连接\n",
    "views = Views()\n",
    "db = Database()"
   ]
  },
  {
   "cell_type": "code",
   "execution_count": null,
   "metadata": {},
   "outputs": [],
   "source": [
    "# # 插入数据\n",
    "# %run insert.py"
   ]
  },
  {
   "cell_type": "code",
   "execution_count": null,
   "metadata": {},
   "outputs": [],
   "source": [
    "# 无索引查询\n",
    "\n",
    "def query_without_index():\n",
    "    db = Database()\n",
    "    start_time = time.time()\n",
    "    result = db.execute(\"\"\"\n",
    "        SELECT SUM(od.unit_price * od.quantity) \n",
    "        FROM OrderDetail od\n",
    "        JOIN Orders o ON od.order_id = o.order_id\n",
    "        WHERE o.customer_id = 'customer0'\n",
    "    \"\"\")\n",
    "    end_time = time.time()\n",
    "    total_amount = result[0][0] if result else 0\n",
    "    print(f\"Query without index took {end_time - start_time:.4f} seconds\")\n",
    "    print(f\"Total amount for customer0: {total_amount}\")\n",
    "\n",
    "print(\"\\nQuery without any index:\")\n",
    "query_without_index()"
   ]
  },
  {
   "cell_type": "code",
   "execution_count": null,
   "metadata": {},
   "outputs": [],
   "source": [
    "# 创建B-Tree索引\n",
    "start_time = time.time()\n",
    "%run btreeindex.py\n",
    "end_time = time.time()\n",
    "print(f\"B-Tree Index creation took {end_time - start_time:.4f} seconds\")\n",
    "\n",
    "# 创建散列索引\n",
    "start_time = time.time()\n",
    "hash_index = HashIndex()\n",
    "hash_index.build_index()\n",
    "end_time = time.time()\n",
    "print(f\"Hash Index creation took {end_time - start_time:.4f} seconds\")"
   ]
  },
  {
   "cell_type": "code",
   "execution_count": null,
   "metadata": {},
   "outputs": [],
   "source": [
    "# 散列索引查询\n",
    "\n",
    "def query_with_hash_index():\n",
    "    start_time = time.time()\n",
    "    hash_index = HashIndex()\n",
    "    hash_index.build_index()\n",
    "    order_ids = hash_index.search_orders('customer0')\n",
    "    total_amount = hash_index.search_order_details(order_ids)\n",
    "    end_time = time.time()\n",
    "    print(f\"Query with Hash Index took {end_time - start_time:.4f} seconds\")\n",
    "    print(f\"Total amount for customer0: {total_amount}\")\n",
    "\n",
    "print(\"\\nQuery with Hash Index:\")\n",
    "query_with_hash_index()"
   ]
  },
  {
   "cell_type": "code",
   "execution_count": null,
   "metadata": {},
   "outputs": [],
   "source": [
    "def query_with_btree_index():\n",
    "    db = Database()\n",
    "    start_time = time.time()\n",
    "    result = db.execute(\"\"\"\n",
    "        SELECT SUM(od.unit_price * od.quantity) \n",
    "        FROM OrderDetail od\n",
    "        JOIN Orders o ON od.order_id = o.order_id\n",
    "        WHERE o.customer_id = 'customer0'\n",
    "    \"\"\")\n",
    "    end_time = time.time()\n",
    "    total_amount = result[0][0] if result else 0\n",
    "    print(f\"Query with B-Tree Index took {end_time - start_time:.4f} seconds\")\n",
    "    print(f\"Total amount for customer0: {total_amount}\")\n",
    "\n",
    "print(\"\\nQuery with B-Tree Index:\")\n",
    "query_with_btree_index()"
   ]
  },
  {
   "cell_type": "code",
   "execution_count": null,
   "metadata": {},
   "outputs": [],
   "source": [
    "# 内连接查询\n",
    "\n",
    "def query_with_inner_join():\n",
    "    db = Database()\n",
    "    start_time = time.time()\n",
    "    result = db.execute(\"\"\"\n",
    "        SELECT SUM(od.unit_price * od.quantity) \n",
    "        FROM Orders o\n",
    "        JOIN OrderDetail od ON o.order_id = od.order_id\n",
    "        WHERE o.customer_id = 'customer0'\n",
    "    \"\"\")\n",
    "    end_time = time.time()\n",
    "    total_amount = result[0][0] if result else 0\n",
    "    print(f\"Query with INNER JOIN took {end_time - start_time:.4f} seconds\")\n",
    "    print(f\"Total amount for customer0: {total_amount}\")\n",
    "\n",
    "print(\"\\nQuery with INNER JOIN:\")\n",
    "query_with_inner_join()"
   ]
  },
  {
   "cell_type": "code",
   "execution_count": null,
   "metadata": {},
   "outputs": [],
   "source": [
    "def query_with_subquery():\n",
    "    db = Database()\n",
    "    start_time = time.time()\n",
    "    result = db.execute(\"\"\"\n",
    "        SELECT SUM(od.unit_price * od.quantity) \n",
    "        FROM OrderDetail od\n",
    "        WHERE od.order_id IN (\n",
    "            SELECT o.order_id \n",
    "            FROM Orders o \n",
    "            WHERE o.customer_id = 'customer0'\n",
    "        )\n",
    "    \"\"\")\n",
    "    end_time = time.time()\n",
    "    total_amount = result[0][0] if result else 0\n",
    "    print(f\"Query with subquery took {end_time - start_time:.4f} seconds\")\n",
    "    print(f\"Total amount for customer0: {total_amount}\")\n",
    "\n",
    "print(\"\\nQuery with subquery:\")\n",
    "query_with_subquery()"
   ]
  }
 ],
 "metadata": {
  "kernelspec": {
   "display_name": "book_sales",
   "language": "python",
   "name": "python3"
  },
  "language_info": {
   "codemirror_mode": {
    "name": "ipython",
    "version": 3
   },
   "file_extension": ".py",
   "mimetype": "text/x-python",
   "name": "python",
   "nbconvert_exporter": "python",
   "pygments_lexer": "ipython3",
   "version": "3.13.0"
  }
 },
 "nbformat": 4,
 "nbformat_minor": 2
}
