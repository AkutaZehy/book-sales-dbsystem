{
 "cells": [
  {
   "cell_type": "code",
   "execution_count": null,
   "metadata": {},
   "outputs": [],
   "source": [
    "# 导入必要的模块\n",
    "import sys\n",
    "import os\n",
    "\n",
    "src_dir = os.path.dirname(os.path.dirname(os.path.abspath(''))) + '/src'"
   ]
  },
  {
   "cell_type": "code",
   "execution_count": null,
   "metadata": {},
   "outputs": [],
   "source": [
    "from views import Views\n",
    "from database import Database\n",
    "from datetime import date"
   ]
  },
  {
   "cell_type": "code",
   "execution_count": null,
   "metadata": {},
   "outputs": [],
   "source": [
    "# 初始化视图和数据库连接\n",
    "views = Views()\n",
    "db = Database()"
   ]
  },
  {
   "cell_type": "code",
   "execution_count": null,
   "metadata": {},
   "outputs": [],
   "source": [
    "# 插入数据\n",
    "%run insert.py\n",
    "\n",
    "# 查询数据\n",
    "print(\"After Insertion:\")\n",
    "books = views.get_books()\n",
    "for book in books:\n",
    "    print(book.__dict__)"
   ]
  },
  {
   "cell_type": "code",
   "execution_count": null,
   "metadata": {},
   "outputs": [],
   "source": [
    "# 删除数据\n",
    "%run delete.py\n",
    "\n",
    "# 查询数据\n",
    "print(\"After Deletion:\")\n",
    "books = views.get_books()\n",
    "for book in books:\n",
    "    print(book.__dict__)"
   ]
  },
  {
   "cell_type": "code",
   "execution_count": null,
   "metadata": {},
   "outputs": [],
   "source": [
    "# 更新数据\n",
    "%run update.py\n",
    "\n",
    "# 查询数据\n",
    "print(\"After Update:\")\n",
    "books = views.get_books()\n",
    "for book in books:\n",
    "    print(book.__dict__)"
   ]
  }
 ],
 "metadata": {
  "kernelspec": {
   "display_name": "book_sales",
   "language": "python",
   "name": "python3"
  },
  "language_info": {
   "codemirror_mode": {
    "name": "ipython",
    "version": 3
   },
   "file_extension": ".py",
   "mimetype": "text/x-python",
   "name": "python",
   "nbconvert_exporter": "python",
   "pygments_lexer": "ipython3",
   "version": "3.13.0"
  }
 },
 "nbformat": 4,
 "nbformat_minor": 2
}
